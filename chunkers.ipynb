{
 "cells": [
  {
   "cell_type": "code",
   "execution_count": 63,
   "metadata": {},
   "outputs": [],
   "source": [
    "# !pip install llama-index\n",
    "# !pip install langchain"
   ]
  },
  {
   "cell_type": "code",
   "execution_count": 7,
   "metadata": {},
   "outputs": [
    {
     "data": {
      "text/plain": [
       "'The sun dipped below the horizon, casting golden hues across the sky. Waves lapped gently against the shore, creating a soothing rhythm. A soft breeze rustled the trees, carrying the scent of salt and earth. Birds chirped their final melodies, bidding farewell to the day. In the distance, city lights flickered, signaling the arrival of night. A lone figure stood at the water’s edge, lost in thought, embracing the serenity of the moment. The world felt still, as if holding its breath. In that quiet space, possibilities seemed endless, and dreams, like stars above, shimmered with infinite potential.The sun dipped below the horizon, casting golden hues across the sky. Waves lapped gently against the shore, creating a soothing rhythm. '"
      ]
     },
     "execution_count": 7,
     "metadata": {},
     "output_type": "execute_result"
    }
   ],
   "source": [
    "# Load an example document\n",
    "with open(\"text_sample_0.txt\") as f:\n",
    "    text = f.read()\n",
    "text"
   ]
  },
  {
   "cell_type": "code",
   "execution_count": 9,
   "metadata": {},
   "outputs": [
    {
     "name": "stdout",
     "output_type": "stream",
     "text": [
      "{} The sun dipped below the horizon, c\n",
      "{} on, casting golden hues across the \n",
      "{}  the sky. Waves lapped gently again\n",
      "{} against the shore, creating a sooth\n",
      "{} soothing rhythm. A soft breeze rust\n",
      "{}  rustled the trees, carrying the sc\n",
      "{} he scent of salt and earth. Birds c\n",
      "{} rds chirped their final melodies, b\n",
      "{} es, bidding farewell to the day. In\n",
      "{} y. In the distance, city lights fli\n",
      "{} s flickered, signaling the arrival \n",
      "{} ival of night. A lone figure stood \n",
      "{} tood at the water’s edge, lost in t\n",
      "{}  in thought, embracing the serenity\n",
      "{} enity of the moment. The world felt\n",
      "{}  felt still, as if holding its brea\n",
      "{}  breath. In that quiet space, possi\n",
      "{} possibilities seemed endless, and d\n",
      "{} and dreams, like stars above, shimm\n",
      "{} shimmered with infinite potential.T\n",
      "{} ial.The sun dipped below the horizo\n",
      "{} orizon, casting golden hues across \n",
      "{} ross the sky. Waves lapped gently a\n",
      "{} tly against the shore, creating a s\n",
      "{} g a soothing rhythm. \n"
     ]
    }
   ],
   "source": [
    "# L1 - Character Splitting - langchain\n",
    "from langchain.text_splitter import CharacterTextSplitter\n",
    "\n",
    "text_splitter = CharacterTextSplitter(chunk_size=35, chunk_overlap=5, separator=\"\", strip_whitespace=False)\n",
    "\n",
    "texts = text_splitter.create_documents([text]) # OP: [Document(metadata={}, page_content='')] \n",
    "count = 0\n",
    "for lines in texts:\n",
    "    print(lines.metadata, lines.page_content)\n",
    "    count += 1\n",
    "    \n",
    "# print(f\"Number of chunks are {count}\")"
   ]
  },
  {
   "cell_type": "code",
   "execution_count": null,
   "metadata": {},
   "outputs": [
    {
     "name": "stdout",
     "output_type": "stream",
     "text": [
      "[Document(id_='65aeba68-4f17-4539-886a-95f6bea76c4d', embedding=None, metadata={'file_path': 'text_sample_0.txt', 'file_name': 'text_sample_0.txt', 'file_type': 'text/plain', 'file_size': 743, 'creation_date': '2025-03-24', 'last_modified_date': '2025-03-24'}, excluded_embed_metadata_keys=['file_name', 'file_type', 'file_size', 'creation_date', 'last_modified_date', 'last_accessed_date'], excluded_llm_metadata_keys=['file_name', 'file_type', 'file_size', 'creation_date', 'last_modified_date', 'last_accessed_date'], relationships={}, metadata_template='{key}: {value}', metadata_separator='\\n', text_resource=MediaResource(embeddings=None, data=None, text='The sun dipped below the horizon, casting golden hues across the sky. Waves lapped gently against the shore, creating a soothing rhythm. A soft breeze rustled the trees, carrying the scent of salt and earth. Birds chirped their final melodies, bidding farewell to the day. In the distance, city lights flickered, signaling the arrival of night. A lone figure stood at the water’s edge, lost in thought, embracing the serenity of the moment. The world felt still, as if holding its breath. In that quiet space, possibilities seemed endless, and dreams, like stars above, shimmered with infinite potential.The sun dipped below the horizon, casting golden hues across the sky. Waves lapped gently against the shore, creating a soothing rhythm. ', path=None, url=None, mimetype=None), image_resource=None, audio_resource=None, video_resource=None, text_template='{metadata_str}\\n\\n{content}')]\n",
      " \n",
      "\n",
      "Metadata length (8) is close to chunk size (35). Resulting chunks are less than 50 tokens. Consider increasing the chunk size or decreasing the size of your metadata to avoid this.\n",
      "Printing only 1st node for example\n",
      "Node ID: 797b49c0-9b0a-47b9-ac95-48e74cd6212f\n",
      "Text: The sun dipped below the horizon, casting golden hues across the sky.\n",
      "Embedding: None\n",
      "Metadata: {'file_path': 'text_sample_0.txt', 'file_name': 'text_sample_0.txt', 'file_type': 'text/plain', 'file_size': 743, 'creation_date': '2025-03-24', 'last_modified_date': '2025-03-24'}\n",
      "Excluded Embed Metadata Keys: ['file_name', 'file_type', 'file_size', 'creation_date', 'last_modified_date', 'last_accessed_date']\n",
      "Excluded LLM Metadata Keys: ['file_name', 'file_type', 'file_size', 'creation_date', 'last_modified_date', 'last_accessed_date']\n",
      "Relationships: {<NodeRelationship.SOURCE: '1'>: RelatedNodeInfo(node_id='65aeba68-4f17-4539-886a-95f6bea76c4d', node_type=<ObjectType.DOCUMENT: '4'>, metadata={'file_path': 'text_sample_0.txt', 'file_name': 'text_sample_0.txt', 'file_type': 'text/plain', 'file_size': 743, 'creation_date': '2025-03-24', 'last_modified_date': '2025-03-24'}, hash='bc2f1cbd1864c08beea8acf52d38d3137c4f3bf70bfa4d6688146e478d5afa5e'), <NodeRelationship.NEXT: '3'>: RelatedNodeInfo(node_id='a31a9593-eee9-4dae-ab7b-ef05c93dafe8', node_type=<ObjectType.TEXT: '1'>, metadata={}, hash='81b7bed70de2e7632418351e3fcae8c1020833cb79d09fa1bd2587bd45356fde')}\n",
      "Metadata Template: {key}: {value}\n",
      "Metadata Separator: \n",
      "\n",
      "MIME Type: text/plain\n",
      "Start Char Index: 0\n",
      "End Char Index: 69\n",
      "Metadata Separator: \n",
      "\n",
      "Text Template: {metadata_str}\n",
      "\n",
      "{content}\n",
      "797b49c0-9b0a-47b9-ac95-48e74cd6212f\n",
      "0\n",
      "69\n",
      "a31a9593-eee9-4dae-ab7b-ef05c93dafe8\n",
      "70\n",
      "136\n"
     ]
    }
   ],
   "source": [
    "# L1 - Character Splitting - llama_index - has more meta data\n",
    "from llama_index.core import SimpleDirectoryReader\n",
    "from llama_index.core.node_parser import SentenceSplitter\n",
    "\n",
    "# Llama index - Directory reader ( Into Document with nodes )\n",
    "reader = SimpleDirectoryReader(input_files=[\"text_sample_0.txt\"])\n",
    "documents = reader.load_data()\n",
    "print(f\"{documents}\\n \\n\")\n",
    "\n",
    "splitter = SentenceSplitter(chunk_size=35, chunk_overlap=5, separator=\"\")\n",
    "nodes = splitter.get_nodes_from_documents(documents=documents, show_progress = False)\n",
    "\n",
    "for node in nodes:    \n",
    "    print(\"Printing only 1st node for example\")\n",
    "    print(f\"Node ID: {node.id_}\")\n",
    "    print(f\"Text: {node.text}\")\n",
    "    print(f\"Embedding: {node.embedding}\")\n",
    "    print(f\"Metadata: {node.metadata}\")\n",
    "    print(f\"Excluded Embed Metadata Keys: {node.excluded_embed_metadata_keys}\")\n",
    "    print(f\"Excluded LLM Metadata Keys: {node.excluded_llm_metadata_keys}\")\n",
    "    print(f\"Relationships: {node.relationships}\")\n",
    "    print(f\"Metadata Template: {node.metadata_template}\")\n",
    "    print(f\"Metadata Separator: {node.metadata_separator}\")\n",
    "    print(f\"MIME Type: {node.mimetype}\")\n",
    "    print(f\"Start Char Index: {node.start_char_idx}\")\n",
    "    print(f\"End Char Index: {node.end_char_idx}\")\n",
    "    print(f\"Metadata Separator: {node.metadata_seperator}\")  # Possible typo in variable name\n",
    "    print(f\"Text Template: {node.text_template}\")\n",
    "    break  # Ensure only the first node is printed\n",
    "\n",
    "\n",
    "print(nodes[0].id_)\n",
    "print(nodes[0].start_char_idx)\n",
    "print(nodes[0].end_char_idx)\n",
    "\n",
    "print(nodes[1].id_)\n",
    "print(nodes[1].start_char_idx)\n",
    "print(nodes[1].end_char_idx)"
   ]
  },
  {
   "cell_type": "markdown",
   "metadata": {},
   "source": []
  },
  {
   "cell_type": "code",
   "execution_count": null,
   "metadata": {},
   "outputs": [],
   "source": [
    "# L2 - Recursive Character Text splitting\n"
   ]
  },
  {
   "cell_type": "code",
   "execution_count": null,
   "metadata": {},
   "outputs": [],
   "source": []
  }
 ],
 "metadata": {
  "kernelspec": {
   "display_name": "Q-A_Langserve",
   "language": "python",
   "name": "python3"
  },
  "language_info": {
   "codemirror_mode": {
    "name": "ipython",
    "version": 3
   },
   "file_extension": ".py",
   "mimetype": "text/x-python",
   "name": "python",
   "nbconvert_exporter": "python",
   "pygments_lexer": "ipython3",
   "version": "3.10.16"
  }
 },
 "nbformat": 4,
 "nbformat_minor": 2
}
