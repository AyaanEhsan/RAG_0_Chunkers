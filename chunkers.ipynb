{
 "cells": [
  {
   "cell_type": "code",
   "execution_count": 63,
   "metadata": {},
   "outputs": [],
   "source": [
    "# !pip install llama-index\n",
    "# !pip install langchain"
   ]
  },
  {
   "cell_type": "code",
   "execution_count": 64,
   "metadata": {},
   "outputs": [
    {
     "data": {
      "text/plain": [
       "'The sun dipped below the horizon, casting golden hues across the sky. Waves lapped gently against the shore, creating a soothing rhythm. A soft breeze rustled the trees, carrying the scent of salt and earth. Birds chirped their final melodies, bidding farewell to the day. In the distance, city lights flickered, signaling the arrival of night. A lone figure stood at the water’s edge, lost in thought, embracing the serenity of the moment. The world felt still, as if holding its breath. In that quiet space, possibilities seemed endless, and dreams, like stars above, shimmered with infinite potential.The sun dipped below the horizon, casting golden hues across the sky. Waves lapped gently against the shore, creating a soothing rhythm. '"
      ]
     },
     "execution_count": 64,
     "metadata": {},
     "output_type": "execute_result"
    }
   ],
   "source": [
    "# Load an example document\n",
    "with open(\"text_sample_0.txt\") as f:\n",
    "    text = f.read()\n",
    "text"
   ]
  },
  {
   "cell_type": "code",
   "execution_count": null,
   "metadata": {},
   "outputs": [
    {
     "name": "stdout",
     "output_type": "stream",
     "text": [
      "{} The sun dipped below the horizon, c\n",
      "{} on, casting golden hues across the \n",
      "{}  the sky. Waves lapped gently again\n",
      "{} against the shore, creating a sooth\n",
      "{} soothing rhythm. A soft breeze rust\n",
      "{}  rustled the trees, carrying the sc\n",
      "{} he scent of salt and earth. Birds c\n",
      "{} rds chirped their final melodies, b\n",
      "{} es, bidding farewell to the day. In\n",
      "{} y. In the distance, city lights fli\n",
      "{} s flickered, signaling the arrival \n",
      "{} ival of night. A lone figure stood \n",
      "{} tood at the water’s edge, lost in t\n",
      "{}  in thought, embracing the serenity\n",
      "{} enity of the moment. The world felt\n",
      "{}  felt still, as if holding its brea\n",
      "{}  breath. In that quiet space, possi\n",
      "{} possibilities seemed endless, and d\n",
      "{} and dreams, like stars above, shimm\n",
      "{} shimmered with infinite potential.T\n",
      "{} ial.The sun dipped below the horizo\n",
      "{} orizon, casting golden hues across \n",
      "{} ross the sky. Waves lapped gently a\n",
      "{} tly against the shore, creating a s\n",
      "{} g a soothing rhythm. \n",
      "Number of chunks are 25\n"
     ]
    }
   ],
   "source": [
    "# L1 - Character Splitting - langchain\n",
    "from langchain.text_splitter import CharacterTextSplitter\n",
    "\n",
    "text_splitter = CharacterTextSplitter(chunk_size=35, chunk_overlap=5, separator=\"\", strip_whitespace=False)\n",
    "\n",
    "texts = text_splitter.create_documents([text]) # OP: [Document(metadata={}, page_content='')] \n",
    "count = 0\n",
    "for lines in texts:\n",
    "    print(lines.metadata, lines.page_content)\n",
    "    count += 1\n",
    "    \n",
    "print(f\"Number of chunks are {count}\")"
   ]
  },
  {
   "cell_type": "code",
   "execution_count": null,
   "metadata": {},
   "outputs": [
    {
     "name": "stdout",
     "output_type": "stream",
     "text": [
      "[Document(id_='47a659c4-965a-4ed6-9ec3-9276d4064aea', embedding=None, metadata={'file_path': 'text_sample_0.txt', 'file_name': 'text_sample_0.txt', 'file_type': 'text/plain', 'file_size': 743, 'creation_date': '2025-03-24', 'last_modified_date': '2025-03-24'}, excluded_embed_metadata_keys=['file_name', 'file_type', 'file_size', 'creation_date', 'last_modified_date', 'last_accessed_date'], excluded_llm_metadata_keys=['file_name', 'file_type', 'file_size', 'creation_date', 'last_modified_date', 'last_accessed_date'], relationships={}, metadata_template='{key}: {value}', metadata_separator='\\n', text_resource=MediaResource(embeddings=None, data=None, text='The sun dipped below the horizon, casting golden hues across the sky. Waves lapped gently against the shore, creating a soothing rhythm. A soft breeze rustled the trees, carrying the scent of salt and earth. Birds chirped their final melodies, bidding farewell to the day. In the distance, city lights flickered, signaling the arrival of night. A lone figure stood at the water’s edge, lost in thought, embracing the serenity of the moment. The world felt still, as if holding its breath. In that quiet space, possibilities seemed endless, and dreams, like stars above, shimmered with infinite potential.The sun dipped below the horizon, casting golden hues across the sky. Waves lapped gently against the shore, creating a soothing rhythm. ', path=None, url=None, mimetype=None), image_resource=None, audio_resource=None, video_resource=None, text_template='{metadata_str}\\n\\n{content}')]\n",
      " \n",
      "\n",
      "Metadata length (8) is close to chunk size (35). Resulting chunks are less than 50 tokens. Consider increasing the chunk size or decreasing the size of your metadata to avoid this.\n",
      "Node ID: 159b8182-a0bd-4e1c-9326-1b218e2b8688\n",
      "Text: The sun dipped below the horizon, casting golden hues across the sky.\n",
      "Embedding: None\n",
      "Text: None\n",
      "Metadata: {'file_path': 'text_sample_0.txt', 'file_name': 'text_sample_0.txt', 'file_type': 'text/plain', 'file_size': 743, 'creation_date': '2025-03-24', 'last_modified_date': '2025-03-24'}\n",
      "---\n"
     ]
    },
    {
     "data": {
      "text/plain": [
       "[TextNode(id_='159b8182-a0bd-4e1c-9326-1b218e2b8688', embedding=None, metadata={'file_path': 'text_sample_0.txt', 'file_name': 'text_sample_0.txt', 'file_type': 'text/plain', 'file_size': 743, 'creation_date': '2025-03-24', 'last_modified_date': '2025-03-24'}, excluded_embed_metadata_keys=['file_name', 'file_type', 'file_size', 'creation_date', 'last_modified_date', 'last_accessed_date'], excluded_llm_metadata_keys=['file_name', 'file_type', 'file_size', 'creation_date', 'last_modified_date', 'last_accessed_date'], relationships={<NodeRelationship.SOURCE: '1'>: RelatedNodeInfo(node_id='47a659c4-965a-4ed6-9ec3-9276d4064aea', node_type=<ObjectType.DOCUMENT: '4'>, metadata={'file_path': 'text_sample_0.txt', 'file_name': 'text_sample_0.txt', 'file_type': 'text/plain', 'file_size': 743, 'creation_date': '2025-03-24', 'last_modified_date': '2025-03-24'}, hash='bc2f1cbd1864c08beea8acf52d38d3137c4f3bf70bfa4d6688146e478d5afa5e'), <NodeRelationship.NEXT: '3'>: RelatedNodeInfo(node_id='ef4514c7-6d27-4c06-8bc8-960c10cbec48', node_type=<ObjectType.TEXT: '1'>, metadata={}, hash='81b7bed70de2e7632418351e3fcae8c1020833cb79d09fa1bd2587bd45356fde')}, metadata_template='{key}: {value}', metadata_separator='\\n', text='The sun dipped below the horizon, casting golden hues across the sky.', mimetype='text/plain', start_char_idx=0, end_char_idx=69, metadata_seperator='\\n', text_template='{metadata_str}\\n\\n{content}'),\n",
       " TextNode(id_='ef4514c7-6d27-4c06-8bc8-960c10cbec48', embedding=None, metadata={'file_path': 'text_sample_0.txt', 'file_name': 'text_sample_0.txt', 'file_type': 'text/plain', 'file_size': 743, 'creation_date': '2025-03-24', 'last_modified_date': '2025-03-24'}, excluded_embed_metadata_keys=['file_name', 'file_type', 'file_size', 'creation_date', 'last_modified_date', 'last_accessed_date'], excluded_llm_metadata_keys=['file_name', 'file_type', 'file_size', 'creation_date', 'last_modified_date', 'last_accessed_date'], relationships={<NodeRelationship.SOURCE: '1'>: RelatedNodeInfo(node_id='47a659c4-965a-4ed6-9ec3-9276d4064aea', node_type=<ObjectType.DOCUMENT: '4'>, metadata={'file_path': 'text_sample_0.txt', 'file_name': 'text_sample_0.txt', 'file_type': 'text/plain', 'file_size': 743, 'creation_date': '2025-03-24', 'last_modified_date': '2025-03-24'}, hash='bc2f1cbd1864c08beea8acf52d38d3137c4f3bf70bfa4d6688146e478d5afa5e'), <NodeRelationship.PREVIOUS: '2'>: RelatedNodeInfo(node_id='159b8182-a0bd-4e1c-9326-1b218e2b8688', node_type=<ObjectType.TEXT: '1'>, metadata={'file_path': 'text_sample_0.txt', 'file_name': 'text_sample_0.txt', 'file_type': 'text/plain', 'file_size': 743, 'creation_date': '2025-03-24', 'last_modified_date': '2025-03-24'}, hash='155ed0e062c8b2d9ceb389de261104c06d347a9a1e335b33abad4079a48dfea5'), <NodeRelationship.NEXT: '3'>: RelatedNodeInfo(node_id='4e81f0b7-0c12-4668-a6d8-189edccaee77', node_type=<ObjectType.TEXT: '1'>, metadata={}, hash='657d4c0a003162cd192e901028274a61e8d6dc802e443fc9bee87159d52c249d')}, metadata_template='{key}: {value}', metadata_separator='\\n', text='Waves lapped gently against the shore, creating a soothing rhythm.', mimetype='text/plain', start_char_idx=70, end_char_idx=136, metadata_seperator='\\n', text_template='{metadata_str}\\n\\n{content}'),\n",
       " TextNode(id_='4e81f0b7-0c12-4668-a6d8-189edccaee77', embedding=None, metadata={'file_path': 'text_sample_0.txt', 'file_name': 'text_sample_0.txt', 'file_type': 'text/plain', 'file_size': 743, 'creation_date': '2025-03-24', 'last_modified_date': '2025-03-24'}, excluded_embed_metadata_keys=['file_name', 'file_type', 'file_size', 'creation_date', 'last_modified_date', 'last_accessed_date'], excluded_llm_metadata_keys=['file_name', 'file_type', 'file_size', 'creation_date', 'last_modified_date', 'last_accessed_date'], relationships={<NodeRelationship.SOURCE: '1'>: RelatedNodeInfo(node_id='47a659c4-965a-4ed6-9ec3-9276d4064aea', node_type=<ObjectType.DOCUMENT: '4'>, metadata={'file_path': 'text_sample_0.txt', 'file_name': 'text_sample_0.txt', 'file_type': 'text/plain', 'file_size': 743, 'creation_date': '2025-03-24', 'last_modified_date': '2025-03-24'}, hash='bc2f1cbd1864c08beea8acf52d38d3137c4f3bf70bfa4d6688146e478d5afa5e'), <NodeRelationship.PREVIOUS: '2'>: RelatedNodeInfo(node_id='ef4514c7-6d27-4c06-8bc8-960c10cbec48', node_type=<ObjectType.TEXT: '1'>, metadata={'file_path': 'text_sample_0.txt', 'file_name': 'text_sample_0.txt', 'file_type': 'text/plain', 'file_size': 743, 'creation_date': '2025-03-24', 'last_modified_date': '2025-03-24'}, hash='44b2d7907a8113e65ad1fde1cc651bc1484fc944cb1a5767cc55c5333f2d2f11'), <NodeRelationship.NEXT: '3'>: RelatedNodeInfo(node_id='8a5b27ca-1abd-445e-97e5-9f095f274cbd', node_type=<ObjectType.TEXT: '1'>, metadata={}, hash='063941684c4d531d221ca52a6f68bcc1e833cc12917e850ab29ca5930fa87068')}, metadata_template='{key}: {value}', metadata_separator='\\n', text='A soft breeze rustled the trees, carrying the scent of salt and earth.', mimetype='text/plain', start_char_idx=137, end_char_idx=207, metadata_seperator='\\n', text_template='{metadata_str}\\n\\n{content}'),\n",
       " TextNode(id_='8a5b27ca-1abd-445e-97e5-9f095f274cbd', embedding=None, metadata={'file_path': 'text_sample_0.txt', 'file_name': 'text_sample_0.txt', 'file_type': 'text/plain', 'file_size': 743, 'creation_date': '2025-03-24', 'last_modified_date': '2025-03-24'}, excluded_embed_metadata_keys=['file_name', 'file_type', 'file_size', 'creation_date', 'last_modified_date', 'last_accessed_date'], excluded_llm_metadata_keys=['file_name', 'file_type', 'file_size', 'creation_date', 'last_modified_date', 'last_accessed_date'], relationships={<NodeRelationship.SOURCE: '1'>: RelatedNodeInfo(node_id='47a659c4-965a-4ed6-9ec3-9276d4064aea', node_type=<ObjectType.DOCUMENT: '4'>, metadata={'file_path': 'text_sample_0.txt', 'file_name': 'text_sample_0.txt', 'file_type': 'text/plain', 'file_size': 743, 'creation_date': '2025-03-24', 'last_modified_date': '2025-03-24'}, hash='bc2f1cbd1864c08beea8acf52d38d3137c4f3bf70bfa4d6688146e478d5afa5e'), <NodeRelationship.PREVIOUS: '2'>: RelatedNodeInfo(node_id='4e81f0b7-0c12-4668-a6d8-189edccaee77', node_type=<ObjectType.TEXT: '1'>, metadata={'file_path': 'text_sample_0.txt', 'file_name': 'text_sample_0.txt', 'file_type': 'text/plain', 'file_size': 743, 'creation_date': '2025-03-24', 'last_modified_date': '2025-03-24'}, hash='3a75013887b2449ebf1246258331270f490ac00e3d6ef52e91792ed07fc279a7'), <NodeRelationship.NEXT: '3'>: RelatedNodeInfo(node_id='495210ff-b005-4bae-bb51-ead835125b53', node_type=<ObjectType.TEXT: '1'>, metadata={}, hash='76d6dc41995386e4b44a48e21bc09b711bfa88b6ef8ea9121745711c75c34a3f')}, metadata_template='{key}: {value}', metadata_separator='\\n', text='Birds chirped their final melodies, bidding farewell to the day.', mimetype='text/plain', start_char_idx=208, end_char_idx=272, metadata_seperator='\\n', text_template='{metadata_str}\\n\\n{content}'),\n",
       " TextNode(id_='495210ff-b005-4bae-bb51-ead835125b53', embedding=None, metadata={'file_path': 'text_sample_0.txt', 'file_name': 'text_sample_0.txt', 'file_type': 'text/plain', 'file_size': 743, 'creation_date': '2025-03-24', 'last_modified_date': '2025-03-24'}, excluded_embed_metadata_keys=['file_name', 'file_type', 'file_size', 'creation_date', 'last_modified_date', 'last_accessed_date'], excluded_llm_metadata_keys=['file_name', 'file_type', 'file_size', 'creation_date', 'last_modified_date', 'last_accessed_date'], relationships={<NodeRelationship.SOURCE: '1'>: RelatedNodeInfo(node_id='47a659c4-965a-4ed6-9ec3-9276d4064aea', node_type=<ObjectType.DOCUMENT: '4'>, metadata={'file_path': 'text_sample_0.txt', 'file_name': 'text_sample_0.txt', 'file_type': 'text/plain', 'file_size': 743, 'creation_date': '2025-03-24', 'last_modified_date': '2025-03-24'}, hash='bc2f1cbd1864c08beea8acf52d38d3137c4f3bf70bfa4d6688146e478d5afa5e'), <NodeRelationship.PREVIOUS: '2'>: RelatedNodeInfo(node_id='8a5b27ca-1abd-445e-97e5-9f095f274cbd', node_type=<ObjectType.TEXT: '1'>, metadata={'file_path': 'text_sample_0.txt', 'file_name': 'text_sample_0.txt', 'file_type': 'text/plain', 'file_size': 743, 'creation_date': '2025-03-24', 'last_modified_date': '2025-03-24'}, hash='a70b5baf1a602eb11d1ce66bfccf2c560f34b010a6b39756d6e272338644afce'), <NodeRelationship.NEXT: '3'>: RelatedNodeInfo(node_id='686021b3-dce2-4ef2-a362-c897f4052c8a', node_type=<ObjectType.TEXT: '1'>, metadata={}, hash='78ee03abd84e07b77f2f0d45ad19be5aab37809c4f6c9f5790a491d6c86cb8bd')}, metadata_template='{key}: {value}', metadata_separator='\\n', text='In the distance, city lights flickered, signaling the arrival of night.', mimetype='text/plain', start_char_idx=273, end_char_idx=344, metadata_seperator='\\n', text_template='{metadata_str}\\n\\n{content}'),\n",
       " TextNode(id_='686021b3-dce2-4ef2-a362-c897f4052c8a', embedding=None, metadata={'file_path': 'text_sample_0.txt', 'file_name': 'text_sample_0.txt', 'file_type': 'text/plain', 'file_size': 743, 'creation_date': '2025-03-24', 'last_modified_date': '2025-03-24'}, excluded_embed_metadata_keys=['file_name', 'file_type', 'file_size', 'creation_date', 'last_modified_date', 'last_accessed_date'], excluded_llm_metadata_keys=['file_name', 'file_type', 'file_size', 'creation_date', 'last_modified_date', 'last_accessed_date'], relationships={<NodeRelationship.SOURCE: '1'>: RelatedNodeInfo(node_id='47a659c4-965a-4ed6-9ec3-9276d4064aea', node_type=<ObjectType.DOCUMENT: '4'>, metadata={'file_path': 'text_sample_0.txt', 'file_name': 'text_sample_0.txt', 'file_type': 'text/plain', 'file_size': 743, 'creation_date': '2025-03-24', 'last_modified_date': '2025-03-24'}, hash='bc2f1cbd1864c08beea8acf52d38d3137c4f3bf70bfa4d6688146e478d5afa5e'), <NodeRelationship.PREVIOUS: '2'>: RelatedNodeInfo(node_id='495210ff-b005-4bae-bb51-ead835125b53', node_type=<ObjectType.TEXT: '1'>, metadata={'file_path': 'text_sample_0.txt', 'file_name': 'text_sample_0.txt', 'file_type': 'text/plain', 'file_size': 743, 'creation_date': '2025-03-24', 'last_modified_date': '2025-03-24'}, hash='8b86019a7bc1236b1ae8948266514ebdf83511c891c0e8d9a8c7ec92a2186312'), <NodeRelationship.NEXT: '3'>: RelatedNodeInfo(node_id='addad137-2a33-4fff-9a2c-e45f203a0eaf', node_type=<ObjectType.TEXT: '1'>, metadata={}, hash='57b845a014e9da355bc40ac17e64dbfe9f71556e07434e3dc3b2019bf9c4945d')}, metadata_template='{key}: {value}', metadata_separator='\\n', text='A lone figure stood at the water’s edge, lost in thought, embracing the serenity of the moment.', mimetype='text/plain', start_char_idx=345, end_char_idx=440, metadata_seperator='\\n', text_template='{metadata_str}\\n\\n{content}'),\n",
       " TextNode(id_='addad137-2a33-4fff-9a2c-e45f203a0eaf', embedding=None, metadata={'file_path': 'text_sample_0.txt', 'file_name': 'text_sample_0.txt', 'file_type': 'text/plain', 'file_size': 743, 'creation_date': '2025-03-24', 'last_modified_date': '2025-03-24'}, excluded_embed_metadata_keys=['file_name', 'file_type', 'file_size', 'creation_date', 'last_modified_date', 'last_accessed_date'], excluded_llm_metadata_keys=['file_name', 'file_type', 'file_size', 'creation_date', 'last_modified_date', 'last_accessed_date'], relationships={<NodeRelationship.SOURCE: '1'>: RelatedNodeInfo(node_id='47a659c4-965a-4ed6-9ec3-9276d4064aea', node_type=<ObjectType.DOCUMENT: '4'>, metadata={'file_path': 'text_sample_0.txt', 'file_name': 'text_sample_0.txt', 'file_type': 'text/plain', 'file_size': 743, 'creation_date': '2025-03-24', 'last_modified_date': '2025-03-24'}, hash='bc2f1cbd1864c08beea8acf52d38d3137c4f3bf70bfa4d6688146e478d5afa5e'), <NodeRelationship.PREVIOUS: '2'>: RelatedNodeInfo(node_id='686021b3-dce2-4ef2-a362-c897f4052c8a', node_type=<ObjectType.TEXT: '1'>, metadata={'file_path': 'text_sample_0.txt', 'file_name': 'text_sample_0.txt', 'file_type': 'text/plain', 'file_size': 743, 'creation_date': '2025-03-24', 'last_modified_date': '2025-03-24'}, hash='12588ea9e2b15fc9d9475c235e1294c590d099112466e6a1c47eabbf66abcbaf'), <NodeRelationship.NEXT: '3'>: RelatedNodeInfo(node_id='b95fe470-5845-4a5c-a30d-c361e9738cdf', node_type=<ObjectType.TEXT: '1'>, metadata={}, hash='b5bca7f1b54a4f5eae2bc8d94ab237bd142e0c7671390601e173b50572dca55f')}, metadata_template='{key}: {value}', metadata_separator='\\n', text='The world felt still, as if holding its breath. In that quiet space, possibilities seemed endless, and dreams,', mimetype='text/plain', start_char_idx=441, end_char_idx=551, metadata_seperator='\\n', text_template='{metadata_str}\\n\\n{content}'),\n",
       " TextNode(id_='b95fe470-5845-4a5c-a30d-c361e9738cdf', embedding=None, metadata={'file_path': 'text_sample_0.txt', 'file_name': 'text_sample_0.txt', 'file_type': 'text/plain', 'file_size': 743, 'creation_date': '2025-03-24', 'last_modified_date': '2025-03-24'}, excluded_embed_metadata_keys=['file_name', 'file_type', 'file_size', 'creation_date', 'last_modified_date', 'last_accessed_date'], excluded_llm_metadata_keys=['file_name', 'file_type', 'file_size', 'creation_date', 'last_modified_date', 'last_accessed_date'], relationships={<NodeRelationship.SOURCE: '1'>: RelatedNodeInfo(node_id='47a659c4-965a-4ed6-9ec3-9276d4064aea', node_type=<ObjectType.DOCUMENT: '4'>, metadata={'file_path': 'text_sample_0.txt', 'file_name': 'text_sample_0.txt', 'file_type': 'text/plain', 'file_size': 743, 'creation_date': '2025-03-24', 'last_modified_date': '2025-03-24'}, hash='bc2f1cbd1864c08beea8acf52d38d3137c4f3bf70bfa4d6688146e478d5afa5e'), <NodeRelationship.PREVIOUS: '2'>: RelatedNodeInfo(node_id='addad137-2a33-4fff-9a2c-e45f203a0eaf', node_type=<ObjectType.TEXT: '1'>, metadata={'file_path': 'text_sample_0.txt', 'file_name': 'text_sample_0.txt', 'file_type': 'text/plain', 'file_size': 743, 'creation_date': '2025-03-24', 'last_modified_date': '2025-03-24'}, hash='cb36f76def23ca06fbfea42bdfdab68c9b17a2dddb8354d8477ce72c43850d30'), <NodeRelationship.NEXT: '3'>: RelatedNodeInfo(node_id='d9ff3205-fb28-4caf-a1ef-445d5331d773', node_type=<ObjectType.TEXT: '1'>, metadata={}, hash='81b7bed70de2e7632418351e3fcae8c1020833cb79d09fa1bd2587bd45356fde')}, metadata_template='{key}: {value}', metadata_separator='\\n', text='and dreams, like stars above, shimmered with infinite potential.The sun dipped below the horizon, casting golden hues across the sky.', mimetype='text/plain', start_char_idx=540, end_char_idx=673, metadata_seperator='\\n', text_template='{metadata_str}\\n\\n{content}'),\n",
       " TextNode(id_='d9ff3205-fb28-4caf-a1ef-445d5331d773', embedding=None, metadata={'file_path': 'text_sample_0.txt', 'file_name': 'text_sample_0.txt', 'file_type': 'text/plain', 'file_size': 743, 'creation_date': '2025-03-24', 'last_modified_date': '2025-03-24'}, excluded_embed_metadata_keys=['file_name', 'file_type', 'file_size', 'creation_date', 'last_modified_date', 'last_accessed_date'], excluded_llm_metadata_keys=['file_name', 'file_type', 'file_size', 'creation_date', 'last_modified_date', 'last_accessed_date'], relationships={<NodeRelationship.SOURCE: '1'>: RelatedNodeInfo(node_id='47a659c4-965a-4ed6-9ec3-9276d4064aea', node_type=<ObjectType.DOCUMENT: '4'>, metadata={'file_path': 'text_sample_0.txt', 'file_name': 'text_sample_0.txt', 'file_type': 'text/plain', 'file_size': 743, 'creation_date': '2025-03-24', 'last_modified_date': '2025-03-24'}, hash='bc2f1cbd1864c08beea8acf52d38d3137c4f3bf70bfa4d6688146e478d5afa5e'), <NodeRelationship.PREVIOUS: '2'>: RelatedNodeInfo(node_id='b95fe470-5845-4a5c-a30d-c361e9738cdf', node_type=<ObjectType.TEXT: '1'>, metadata={'file_path': 'text_sample_0.txt', 'file_name': 'text_sample_0.txt', 'file_type': 'text/plain', 'file_size': 743, 'creation_date': '2025-03-24', 'last_modified_date': '2025-03-24'}, hash='2b8b93146100daf8940094b60866738444ccb61688a0783e5b51361b806dadc4')}, metadata_template='{key}: {value}', metadata_separator='\\n', text='Waves lapped gently against the shore, creating a soothing rhythm.', mimetype='text/plain', start_char_idx=70, end_char_idx=136, metadata_seperator='\\n', text_template='{metadata_str}\\n\\n{content}')]"
      ]
     },
     "execution_count": 72,
     "metadata": {},
     "output_type": "execute_result"
    }
   ],
   "source": [
    "# L1 - Character Splitting - llama_index\n",
    "from llama_index.core import SimpleDirectoryReader\n",
    "from llama_index.core.node_parser import SentenceSplitter\n",
    "reader = SimpleDirectoryReader(input_files=[\"text_sample_0.txt\"])\n",
    "documents = reader.load_data()\n",
    "print(f\"{documents}\\n \\n\")\n",
    "\n",
    "splitter = SentenceSplitter(chunk_size=35, chunk_overlap=5, separator=\"\")\n",
    "nodes = splitter.get_nodes_from_documents(documents=documents, show_progress = False)\n",
    "\n",
    "for node in nodes:\n",
    "    print(f\"Node ID: {node.id_}\")\n",
    "    print(f\"Text: {node.text}\")\n",
    "    print(f\"Embedding: {node.embedding}\")\n",
    "    print(f\"Text: {node.embedding}\")\n",
    "    print(f\"Metadata: {node.metadata}\")\n",
    "    print(\"---\")\n",
    "    break\n",
    "\n",
    "nodes"
   ]
  },
  {
   "cell_type": "code",
   "execution_count": null,
   "metadata": {},
   "outputs": [
    {
     "name": "stdout",
     "output_type": "stream",
     "text": [
      "Node ID: 87bfb798-4a00-406c-bbba-031e0271c710\n",
      "Text: The sun dipped below the horizon, casting golden hues across the sky.\n",
      "Embedding: None\n",
      "Text: None\n",
      "Metadata: {'file_path': 'text_sample_0.txt', 'file_name': 'text_sample_0.txt', 'file_type': 'text/plain', 'file_size': 743, 'creation_date': '2025-03-24', 'last_modified_date': '2025-03-24'}\n",
      "---\n",
      "Node ID: 56717f7e-d4c9-4b63-85e1-8406e03d3095\n",
      "Text: Waves lapped gently against the shore, creating a soothing rhythm.\n",
      "Embedding: None\n",
      "Text: None\n",
      "Metadata: {'file_path': 'text_sample_0.txt', 'file_name': 'text_sample_0.txt', 'file_type': 'text/plain', 'file_size': 743, 'creation_date': '2025-03-24', 'last_modified_date': '2025-03-24'}\n",
      "---\n",
      "Node ID: 92380054-9f48-4681-82c1-38f500e62bfe\n",
      "Text: A soft breeze rustled the trees, carrying the scent of salt and earth.\n",
      "Embedding: None\n",
      "Text: None\n",
      "Metadata: {'file_path': 'text_sample_0.txt', 'file_name': 'text_sample_0.txt', 'file_type': 'text/plain', 'file_size': 743, 'creation_date': '2025-03-24', 'last_modified_date': '2025-03-24'}\n",
      "---\n",
      "Node ID: 23a3d1b7-3eab-4b3e-a42b-93b9d41edcd3\n",
      "Text: Birds chirped their final melodies, bidding farewell to the day.\n",
      "Embedding: None\n",
      "Text: None\n",
      "Metadata: {'file_path': 'text_sample_0.txt', 'file_name': 'text_sample_0.txt', 'file_type': 'text/plain', 'file_size': 743, 'creation_date': '2025-03-24', 'last_modified_date': '2025-03-24'}\n",
      "---\n",
      "Node ID: 5939edec-e526-49f5-a90a-7eb5ed8f8906\n",
      "Text: In the distance, city lights flickered, signaling the arrival of night.\n",
      "Embedding: None\n",
      "Text: None\n",
      "Metadata: {'file_path': 'text_sample_0.txt', 'file_name': 'text_sample_0.txt', 'file_type': 'text/plain', 'file_size': 743, 'creation_date': '2025-03-24', 'last_modified_date': '2025-03-24'}\n",
      "---\n",
      "Node ID: 46ce01f2-d244-41a7-9723-a9ae26f96439\n",
      "Text: A lone figure stood at the water’s edge, lost in thought, embracing the serenity of the moment.\n",
      "Embedding: None\n",
      "Text: None\n",
      "Metadata: {'file_path': 'text_sample_0.txt', 'file_name': 'text_sample_0.txt', 'file_type': 'text/plain', 'file_size': 743, 'creation_date': '2025-03-24', 'last_modified_date': '2025-03-24'}\n",
      "---\n",
      "Node ID: df305586-2bbf-4687-b472-49ac43b70fc5\n",
      "Text: The world felt still, as if holding its breath. In that quiet space, possibilities seemed endless, and dreams,\n",
      "Embedding: None\n",
      "Text: None\n",
      "Metadata: {'file_path': 'text_sample_0.txt', 'file_name': 'text_sample_0.txt', 'file_type': 'text/plain', 'file_size': 743, 'creation_date': '2025-03-24', 'last_modified_date': '2025-03-24'}\n",
      "---\n",
      "Node ID: 783b3b53-e235-43df-b4cb-9b8c4bee5abc\n",
      "Text: and dreams, like stars above, shimmered with infinite potential.The sun dipped below the horizon, casting golden hues across the sky.\n",
      "Embedding: None\n",
      "Text: None\n",
      "Metadata: {'file_path': 'text_sample_0.txt', 'file_name': 'text_sample_0.txt', 'file_type': 'text/plain', 'file_size': 743, 'creation_date': '2025-03-24', 'last_modified_date': '2025-03-24'}\n",
      "---\n",
      "Node ID: 9e242244-3d3b-48d2-9ab9-dc8c77244a18\n",
      "Text: Waves lapped gently against the shore, creating a soothing rhythm.\n",
      "Embedding: None\n",
      "Text: None\n",
      "Metadata: {'file_path': 'text_sample_0.txt', 'file_name': 'text_sample_0.txt', 'file_type': 'text/plain', 'file_size': 743, 'creation_date': '2025-03-24', 'last_modified_date': '2025-03-24'}\n",
      "---\n"
     ]
    }
   ],
   "source": []
  },
  {
   "cell_type": "code",
   "execution_count": null,
   "metadata": {},
   "outputs": [],
   "source": []
  }
 ],
 "metadata": {
  "kernelspec": {
   "display_name": "Q-A_Langserve",
   "language": "python",
   "name": "python3"
  },
  "language_info": {
   "codemirror_mode": {
    "name": "ipython",
    "version": 3
   },
   "file_extension": ".py",
   "mimetype": "text/x-python",
   "name": "python",
   "nbconvert_exporter": "python",
   "pygments_lexer": "ipython3",
   "version": "3.10.16"
  }
 },
 "nbformat": 4,
 "nbformat_minor": 2
}
